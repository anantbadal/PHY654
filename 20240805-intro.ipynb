{
 "cells": [
  {
   "cell_type": "code",
   "execution_count": 6,
   "id": "7c3e4636-1ff2-47de-bf34-c5970f10fb1a",
   "metadata": {},
   "outputs": [],
   "source": [
    "import numpy as np"
   ]
  },
  {
   "cell_type": "markdown",
   "id": "06d866bb-4a3f-4032-a3db-5bb00d6d08f9",
   "metadata": {},
   "source": [
    "### Let's initialize an array (vector) of 10 elements. These elements are deterimined by random numbers drawn from a normal distribution"
   ]
  },
  {
   "cell_type": "code",
   "execution_count": 8,
   "id": "31b0d37e-c1c2-48f6-8b51-b801c7e01990",
   "metadata": {},
   "outputs": [
    {
     "name": "stdout",
     "output_type": "stream",
     "text": [
      "[-0.13075448  0.30476901  0.22493384 -1.08706731  1.24578739 -0.69460552\n",
      "  0.25646158 -1.24380395  1.18988431 -0.94269259]\n"
     ]
    }
   ],
   "source": [
    "x = np.random.normal(size=10)\n",
    "print(x)"
   ]
  },
  {
   "cell_type": "code",
   "execution_count": 10,
   "id": "cdb5605c-a0e0-4c2e-9340-c2b34fbebf12",
   "metadata": {},
   "outputs": [
    {
     "name": "stdout",
     "output_type": "stream",
     "text": [
      "[ 9.84469445 10.25016635 10.15999245 10.2285685   9.91831072]\n"
     ]
    }
   ],
   "source": [
    "mu=10\n",
    "sigma=0.1\n",
    "x = np.random.normal(mu, sigma, size=5)\n",
    "print(x)"
   ]
  },
  {
   "cell_type": "code",
   "execution_count": 12,
   "id": "6ab75992-a2e5-46c4-a260-67cdef9058cd",
   "metadata": {},
   "outputs": [
    {
     "name": "stdout",
     "output_type": "stream",
     "text": [
      "[1.2 2.6 3.4]\n"
     ]
    }
   ],
   "source": [
    "#You can also initialize an array with specific values\n",
    "x = np.array([1.2, 2.6, 3.4])\n",
    "print(x)"
   ]
  },
  {
   "cell_type": "code",
   "execution_count": 14,
   "id": "72349629-d615-4d66-862a-79e899ba6826",
   "metadata": {},
   "outputs": [
    {
     "name": "stdout",
     "output_type": "stream",
     "text": [
      "1.2\n"
     ]
    }
   ],
   "source": [
    "#Indexing elements. Note that Python starts numbering elements from 0!\n",
    "# Get the first element of x\n",
    "print(x[0])"
   ]
  },
  {
   "cell_type": "code",
   "execution_count": 16,
   "id": "66878d8a-c4c8-4995-9f18-1b020ba4e2ae",
   "metadata": {},
   "outputs": [
    {
     "name": "stdout",
     "output_type": "stream",
     "text": [
      "3.4\n"
     ]
    }
   ],
   "source": [
    "# Get the last element of x\n",
    "print(x[-1])"
   ]
  },
  {
   "cell_type": "code",
   "execution_count": 18,
   "id": "31a1f8bf-2169-4b87-be67-06f2e77abe0e",
   "metadata": {},
   "outputs": [
    {
     "name": "stdout",
     "output_type": "stream",
     "text": [
      "[0.         1.38629436 1.94591015 2.07944154 2.30258509]\n"
     ]
    }
   ],
   "source": [
    "#You can also apply functions like log to an entire array\n",
    "x=np.log(np.array([1, 4, 7, 8, 10]))\n",
    "print(x)"
   ]
  },
  {
   "cell_type": "code",
   "execution_count": 20,
   "id": "ce2e3df2-5f31-4108-915b-1f732c74f61d",
   "metadata": {},
   "outputs": [
    {
     "name": "stdout",
     "output_type": "stream",
     "text": [
      "[[1.38629436 1.94591015 2.07944154]\n",
      " [1.09861229 2.30258509 2.39789527]\n",
      " [1.38629436 1.60943791 1.94591015]]\n"
     ]
    }
   ],
   "source": [
    "#We can  make matrices in numpy\n",
    "A = np.log(np.array([ [4.0, 7.0, 8.0], [3.0, 10.0, 11.0], [4.0, 5.0, 7.0] ]))\n",
    "print(A)"
   ]
  },
  {
   "cell_type": "code",
   "execution_count": 22,
   "id": "1556ba09-e1e3-4b55-9a2e-49157130f988",
   "metadata": {},
   "outputs": [
    {
     "name": "stdout",
     "output_type": "stream",
     "text": [
      "A size: (3, 3)\n"
     ]
    }
   ],
   "source": [
    "# Get the matrix size\n",
    "print(\"A size:\", A.shape)"
   ]
  },
  {
   "cell_type": "code",
   "execution_count": 24,
   "id": "3a9ca21d-7ab8-4aad-8f76-5b0977169a0e",
   "metadata": {},
   "outputs": [
    {
     "name": "stdout",
     "output_type": "stream",
     "text": [
      "First column of A: [1.38629436 1.09861229 1.38629436]\n"
     ]
    }
   ],
   "source": [
    "# Print the first column of a matrix\n",
    "print(\"First column of A:\", A[:,0].T)"
   ]
  },
  {
   "cell_type": "code",
   "execution_count": 26,
   "id": "221df9a3-79fd-43a1-9f07-f37e57c577d8",
   "metadata": {},
   "outputs": [
    {
     "name": "stdout",
     "output_type": "stream",
     "text": [
      "A:\n",
      " [[0. 0. 0. 0. 0. 0. 0. 0. 0. 0.]\n",
      " [0. 0. 0. 0. 0. 0. 0. 0. 0. 0.]\n",
      " [0. 0. 0. 0. 0. 0. 0. 0. 0. 0.]\n",
      " [0. 0. 0. 0. 0. 0. 0. 0. 0. 0.]\n",
      " [0. 0. 0. 0. 0. 0. 0. 0. 0. 0.]\n",
      " [0. 0. 0. 0. 0. 0. 0. 0. 0. 0.]\n",
      " [0. 0. 0. 0. 0. 0. 0. 0. 0. 0.]\n",
      " [0. 0. 0. 0. 0. 0. 0. 0. 0. 0.]\n",
      " [0. 0. 0. 0. 0. 0. 0. 0. 0. 0.]\n",
      " [0. 0. 0. 0. 0. 0. 0. 0. 0. 0.]]\n"
     ]
    }
   ],
   "source": [
    "n = 10\n",
    "\n",
    "# Define a matrix of dimension 10 x 10 and set all elements to zero\n",
    "A = np.zeros( (n, n) )\n",
    "print(\"A:\\n\", A)"
   ]
  },
  {
   "cell_type": "code",
   "execution_count": 28,
   "id": "64eab67d-8534-4195-b199-09b858a0552b",
   "metadata": {},
   "outputs": [
    {
     "name": "stdout",
     "output_type": "stream",
     "text": [
      "B:\n",
      " [[1. 1. 1. 1. 1. 1. 1. 1. 1. 1.]\n",
      " [1. 1. 1. 1. 1. 1. 1. 1. 1. 1.]\n",
      " [1. 1. 1. 1. 1. 1. 1. 1. 1. 1.]\n",
      " [1. 1. 1. 1. 1. 1. 1. 1. 1. 1.]\n",
      " [1. 1. 1. 1. 1. 1. 1. 1. 1. 1.]\n",
      " [1. 1. 1. 1. 1. 1. 1. 1. 1. 1.]\n",
      " [1. 1. 1. 1. 1. 1. 1. 1. 1. 1.]\n",
      " [1. 1. 1. 1. 1. 1. 1. 1. 1. 1.]\n",
      " [1. 1. 1. 1. 1. 1. 1. 1. 1. 1.]\n",
      " [1. 1. 1. 1. 1. 1. 1. 1. 1. 1.]]\n"
     ]
    }
   ],
   "source": [
    "# Define a matrix of dimension 10 x 10 and set all elements to one\n",
    "B = np.ones( (n, n) )\n",
    "print(\"B:\\n\", B)"
   ]
  },
  {
   "cell_type": "code",
   "execution_count": 30,
   "id": "4ae30c41-5c58-4872-ba54-04093af639ec",
   "metadata": {},
   "outputs": [
    {
     "name": "stdout",
     "output_type": "stream",
     "text": [
      "C:\n",
      " [[0.73738537 0.58539549]\n",
      " [0.22017671 0.53045359]]\n"
     ]
    }
   ],
   "source": [
    "# Define a matrix of dimension 2 x 2 and set all elements to random numbers in [0, 1]\n",
    "C = np.random.rand(2, 2)\n",
    "print(\"C:\\n\", C)"
   ]
  },
  {
   "cell_type": "markdown",
   "id": "98b7dad1-94ae-415a-ac71-6cbd99ba19d9",
   "metadata": {},
   "source": [
    "## Visualise sigmoid"
   ]
  },
  {
   "cell_type": "code",
   "execution_count": 33,
   "id": "774d078c-c70e-4297-a7d0-34bcb98fc451",
   "metadata": {},
   "outputs": [
    {
     "data": {
      "image/png": "[encoded data removed]",
      "text/plain": [
       "<Figure size 640x480 with 1 Axes>"
      ]
     },
     "metadata": {},
     "output_type": "display_data"
    }
   ],
   "source": [
    "import matplotlib.pyplot as plt\n",
    "\n",
    "def sigmoid(z):\n",
    "    return 1 / (1 + np.exp( - z))\n",
    "\n",
    "plt.plot(np.arange(-5, 5, 0.1), sigmoid(np.arange(-5, 5, 0.1)))\n",
    "plt.title('Visualization of the Sigmoid Function')\n",
    "\n",
    "plt.show()"
   ]
  },
  {
   "cell_type": "markdown",
   "id": "fb09ef9f-e810-4e6f-b5bb-d8bf5f65235c",
   "metadata": {},
   "source": [
    "### TensorFlow: a Python-friendly open source library for developing machine learning applications"
   ]
  },
  {
   "cell_type": "code",
   "execution_count": 35,
   "id": "e6e9ea98-5dcf-444f-8de4-363e465da4e6",
   "metadata": {},
   "outputs": [
    {
     "name": "stdout",
     "output_type": "stream",
     "text": [
      "TensorFlow version: 2.17.0\n"
     ]
    }
   ],
   "source": [
    "import tensorflow as tf\n",
    "print(\"TensorFlow version:\", tf.__version__)"
   ]
  },
  {
   "cell_type": "markdown",
   "id": "7dc5dff3-697b-4888-b766-3df373235c98",
   "metadata": {},
   "source": [
    "# How to load a dataset?"
   ]
  },
  {
   "cell_type": "code",
   "execution_count": 39,
   "id": "6eadf2ca-5f60-45f7-a475-2e991d575b9a",
   "metadata": {},
   "outputs": [],
   "source": [
    "# Dataset information: https://archive.ics.uci.edu/dataset/17/breast+cancer+wisconsin+diagnostic\n",
    "url = 'https://archive.ics.uci.edu/ml/machine-learning-databases/breast-cancer-wisconsin/wdbc.data'\n",
    "\n",
    "features = ['radius', 'texture', 'perimeter', 'area', 'smoothness', 'compactness',\n",
    "            'concavity', 'concave_poinits', 'symmetry', 'fractal_dimension']\n",
    "column_names = ['id', 'diagnosis']\n",
    "\n",
    "for attr in ['mean', 'ste', 'largest']:\n",
    "  for feature in features:\n",
    "    column_names.append(feature + \"_\" + attr)"
   ]
  },
  {
   "cell_type": "code",
   "execution_count": 41,
   "id": "6b092476-65ba-4f49-8e38-c7335bc1231d",
   "metadata": {},
   "outputs": [],
   "source": [
    "import pandas as pd\n",
    "dataset = pd.read_csv(url, names=column_names)"
   ]
  },
  {
   "cell_type": "code",
   "execution_count": 42,
   "id": "f53ffdd7-770e-4033-81db-9ea7220b230d",
   "metadata": {},
   "outputs": [
    {
     "name": "stdout",
     "output_type": "stream",
     "text": [
      "<class 'pandas.core.frame.DataFrame'>\n",
      "RangeIndex: 569 entries, 0 to 568\n",
      "Data columns (total 32 columns):\n",
      " #   Column                     Non-Null Count  Dtype  \n",
      "---  ------                     --------------  -----  \n",
      " 0   id                         569 non-null    int64  \n",
      " 1   diagnosis                  569 non-null    object \n",
      " 2   radius_mean                569 non-null    float64\n",
      " 3   texture_mean               569 non-null    float64\n",
      " 4   perimeter_mean             569 non-null    float64\n",
      " 5   area_mean                  569 non-null    float64\n",
      " 6   smoothness_mean            569 non-null    float64\n",
      " 7   compactness_mean           569 non-null    float64\n",
      " 8   concavity_mean             569 non-null    float64\n",
      " 9   concave_poinits_mean       569 non-null    float64\n",
      " 10  symmetry_mean              569 non-null    float64\n",
      " 11  fractal_dimension_mean     569 non-null    float64\n",
      " 12  radius_ste                 569 non-null    float64\n",
      " 13  texture_ste                569 non-null    float64\n",
      " 14  perimeter_ste              569 non-null    float64\n",
      " 15  area_ste                   569 non-null    float64\n",
      " 16  smoothness_ste             569 non-null    float64\n",
      " 17  compactness_ste            569 non-null    float64\n",
      " 18  concavity_ste              569 non-null    float64\n",
      " 19  concave_poinits_ste        569 non-null    float64\n",
      " 20  symmetry_ste               569 non-null    float64\n",
      " 21  fractal_dimension_ste      569 non-null    float64\n",
      " 22  radius_largest             569 non-null    float64\n",
      " 23  texture_largest            569 non-null    float64\n",
      " 24  perimeter_largest          569 non-null    float64\n",
      " 25  area_largest               569 non-null    float64\n",
      " 26  smoothness_largest         569 non-null    float64\n",
      " 27  compactness_largest        569 non-null    float64\n",
      " 28  concavity_largest          569 non-null    float64\n",
      " 29  concave_poinits_largest    569 non-null    float64\n",
      " 30  symmetry_largest           569 non-null    float64\n",
      " 31  fractal_dimension_largest  569 non-null    float64\n",
      "dtypes: float64(30), int64(1), object(1)\n",
      "memory usage: 142.4+ KB\n"
     ]
    }
   ],
   "source": [
    "dataset.info()"
   ]
  },
  {
   "cell_type": "code",
   "execution_count": 50,
   "id": "5c3b389f-b824-4116-863c-0d4717fc14bb",
   "metadata": {},
   "outputs": [
    {
     "data": {
      "text/html": [
       "<div>\n",
       "<style scoped>\n",
       "    .dataframe tbody tr th:only-of-type {\n",
       "        vertical-align: middle;\n",
       "    }\n",
       "\n",
       "    .dataframe tbody tr th {\n",
       "        vertical-align: top;\n",
       "    }\n",
       "\n",
       "    .dataframe thead th {\n",
       "        text-align: right;\n",
       "    }\n",
       "</style>\n",
       "<table border=\"1\" class=\"dataframe\">\n",
       "  <thead>\n",
       "    <tr style=\"text-align: right;\">\n",
       "      <th></th>\n",
       "      <th>id</th>\n",
       "      <th>diagnosis</th>\n",
       "      <th>radius_mean</th>\n",
       "      <th>texture_mean</th>\n",
       "      <th>perimeter_mean</th>\n",
       "      <th>area_mean</th>\n",
       "      <th>smoothness_mean</th>\n",
       "      <th>compactness_mean</th>\n",
       "      <th>concavity_mean</th>\n",
       "      <th>concave_poinits_mean</th>\n",
       "      <th>...</th>\n",
       "      <th>radius_largest</th>\n",
       "      <th>texture_largest</th>\n",
       "      <th>perimeter_largest</th>\n",
       "      <th>area_largest</th>\n",
       "      <th>smoothness_largest</th>\n",
       "      <th>compactness_largest</th>\n",
       "      <th>concavity_largest</th>\n",
       "      <th>concave_poinits_largest</th>\n",
       "      <th>symmetry_largest</th>\n",
       "      <th>fractal_dimension_largest</th>\n",
       "    </tr>\n",
       "  </thead>\n",
       "  <tbody>\n",
       "    <tr>\n",
       "      <th>0</th>\n",
       "      <td>842302</td>\n",
       "      <td>M</td>\n",
       "      <td>17.99</td>\n",
       "      <td>10.38</td>\n",
       "      <td>122.80</td>\n",
       "      <td>1001.0</td>\n",
       "      <td>0.11840</td>\n",
       "      <td>0.27760</td>\n",
       "      <td>0.3001</td>\n",
       "      <td>0.14710</td>\n",
       "      <td>...</td>\n",
       "      <td>25.38</td>\n",
       "      <td>17.33</td>\n",
       "      <td>184.60</td>\n",
       "      <td>2019.0</td>\n",
       "      <td>0.1622</td>\n",
       "      <td>0.6656</td>\n",
       "      <td>0.7119</td>\n",
       "      <td>0.2654</td>\n",
       "      <td>0.4601</td>\n",
       "      <td>0.11890</td>\n",
       "    </tr>\n",
       "    <tr>\n",
       "      <th>1</th>\n",
       "      <td>842517</td>\n",
       "      <td>M</td>\n",
       "      <td>20.57</td>\n",
       "      <td>17.77</td>\n",
       "      <td>132.90</td>\n",
       "      <td>1326.0</td>\n",
       "      <td>0.08474</td>\n",
       "      <td>0.07864</td>\n",
       "      <td>0.0869</td>\n",
       "      <td>0.07017</td>\n",
       "      <td>...</td>\n",
       "      <td>24.99</td>\n",
       "      <td>23.41</td>\n",
       "      <td>158.80</td>\n",
       "      <td>1956.0</td>\n",
       "      <td>0.1238</td>\n",
       "      <td>0.1866</td>\n",
       "      <td>0.2416</td>\n",
       "      <td>0.1860</td>\n",
       "      <td>0.2750</td>\n",
       "      <td>0.08902</td>\n",
       "    </tr>\n",
       "    <tr>\n",
       "      <th>2</th>\n",
       "      <td>84300903</td>\n",
       "      <td>M</td>\n",
       "      <td>19.69</td>\n",
       "      <td>21.25</td>\n",
       "      <td>130.00</td>\n",
       "      <td>1203.0</td>\n",
       "      <td>0.10960</td>\n",
       "      <td>0.15990</td>\n",
       "      <td>0.1974</td>\n",
       "      <td>0.12790</td>\n",
       "      <td>...</td>\n",
       "      <td>23.57</td>\n",
       "      <td>25.53</td>\n",
       "      <td>152.50</td>\n",
       "      <td>1709.0</td>\n",
       "      <td>0.1444</td>\n",
       "      <td>0.4245</td>\n",
       "      <td>0.4504</td>\n",
       "      <td>0.2430</td>\n",
       "      <td>0.3613</td>\n",
       "      <td>0.08758</td>\n",
       "    </tr>\n",
       "    <tr>\n",
       "      <th>3</th>\n",
       "      <td>84348301</td>\n",
       "      <td>M</td>\n",
       "      <td>11.42</td>\n",
       "      <td>20.38</td>\n",
       "      <td>77.58</td>\n",
       "      <td>386.1</td>\n",
       "      <td>0.14250</td>\n",
       "      <td>0.28390</td>\n",
       "      <td>0.2414</td>\n",
       "      <td>0.10520</td>\n",
       "      <td>...</td>\n",
       "      <td>14.91</td>\n",
       "      <td>26.50</td>\n",
       "      <td>98.87</td>\n",
       "      <td>567.7</td>\n",
       "      <td>0.2098</td>\n",
       "      <td>0.8663</td>\n",
       "      <td>0.6869</td>\n",
       "      <td>0.2575</td>\n",
       "      <td>0.6638</td>\n",
       "      <td>0.17300</td>\n",
       "    </tr>\n",
       "    <tr>\n",
       "      <th>4</th>\n",
       "      <td>84358402</td>\n",
       "      <td>M</td>\n",
       "      <td>20.29</td>\n",
       "      <td>14.34</td>\n",
       "      <td>135.10</td>\n",
       "      <td>1297.0</td>\n",
       "      <td>0.10030</td>\n",
       "      <td>0.13280</td>\n",
       "      <td>0.1980</td>\n",
       "      <td>0.10430</td>\n",
       "      <td>...</td>\n",
       "      <td>22.54</td>\n",
       "      <td>16.67</td>\n",
       "      <td>152.20</td>\n",
       "      <td>1575.0</td>\n",
       "      <td>0.1374</td>\n",
       "      <td>0.2050</td>\n",
       "      <td>0.4000</td>\n",
       "      <td>0.1625</td>\n",
       "      <td>0.2364</td>\n",
       "      <td>0.07678</td>\n",
       "    </tr>\n",
       "  </tbody>\n",
       "</table>\n",
       "<p>5 rows × 32 columns</p>\n",
       "</div>"
      ],
      "text/plain": [
       "         id diagnosis  radius_mean  texture_mean  perimeter_mean  area_mean  \\\n",
       "0    842302         M        17.99         10.38          122.80     1001.0   \n",
       "1    842517         M        20.57         17.77          132.90     1326.0   \n",
       "2  84300903         M        19.69         21.25          130.00     1203.0   \n",
       "3  84348301         M        11.42         20.38           77.58      386.1   \n",
       "4  84358402         M        20.29         14.34          135.10     1297.0   \n",
       "\n",
       "   smoothness_mean  compactness_mean  concavity_mean  concave_poinits_mean  \\\n",
       "0          0.11840           0.27760          0.3001               0.14710   \n",
       "1          0.08474           0.07864          0.0869               0.07017   \n",
       "2          0.10960           0.15990          0.1974               0.12790   \n",
       "3          0.14250           0.28390          0.2414               0.10520   \n",
       "4          0.10030           0.13280          0.1980               0.10430   \n",
       "\n",
       "   ...  radius_largest  texture_largest  perimeter_largest  area_largest  \\\n",
       "0  ...           25.38            17.33             184.60        2019.0   \n",
       "1  ...           24.99            23.41             158.80        1956.0   \n",
       "2  ...           23.57            25.53             152.50        1709.0   \n",
       "3  ...           14.91            26.50              98.87         567.7   \n",
       "4  ...           22.54            16.67             152.20        1575.0   \n",
       "\n",
       "   smoothness_largest  compactness_largest  concavity_largest  \\\n",
       "0              0.1622               0.6656             0.7119   \n",
       "1              0.1238               0.1866             0.2416   \n",
       "2              0.1444               0.4245             0.4504   \n",
       "3              0.2098               0.8663             0.6869   \n",
       "4              0.1374               0.2050             0.4000   \n",
       "\n",
       "   concave_poinits_largest  symmetry_largest  fractal_dimension_largest  \n",
       "0                   0.2654            0.4601                    0.11890  \n",
       "1                   0.1860            0.2750                    0.08902  \n",
       "2                   0.2430            0.3613                    0.08758  \n",
       "3                   0.2575            0.6638                    0.17300  \n",
       "4                   0.1625            0.2364                    0.07678  \n",
       "\n",
       "[5 rows x 32 columns]"
      ]
     },
     "execution_count": 50,
     "metadata": {},
     "output_type": "execute_result"
    }
   ],
   "source": [
    "# Display the first five rows:\n",
    "dataset.head()"
   ]
  }
 ],
 "metadata": {
  "kernelspec": {
   "display_name": "Python 3 (ipykernel)",
   "language": "python",
   "name": "python3"
  },
  "language_info": {
   "codemirror_mode": {
    "name": "ipython",
    "version": 3
   },
   "file_extension": ".py",
   "mimetype": "text/x-python",
   "name": "python",
   "nbconvert_exporter": "python",
   "pygments_lexer": "ipython3",
   "version": "3.12.4"
  }
 },
 "nbformat": 4,
 "nbformat_minor": 5
}
